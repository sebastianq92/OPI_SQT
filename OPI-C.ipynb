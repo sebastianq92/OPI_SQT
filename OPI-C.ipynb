{
 "cells": [
  {
   "cell_type": "markdown",
   "metadata": {},
   "source": [
    "# C.1 BOPS\n",
    "Resuelve el siguiente caso :\n",
    "\n",
    "1. ¿Deberían expandirse a Canadá?\n",
    "\n",
    "2. ¿Cuántos millones de dólares se ganaron o perdieron a partir del programa? Explica\n",
    "tu razonamiento y metodología.\n",
    "\n",
    "Pista: Existen dos experimentos naturales. Canadá y las tiendas que se encuentran\n",
    "lejos. Utilízalos."
   ]
  },
  {
   "cell_type": "markdown",
   "metadata": {},
   "source": [
    "## Respuestas\n",
    "\n",
    "### 1)\n",
    "Parece que sí pues BOPS tuvo un efecto positivo en general. Sin embargo, no es posible contestar a esta pregunta pues no tenemos información sobre las ventas en línea en Canadá.\n",
    "\n",
    "### 2)\n",
    "Estimamos que gracias a BOPS se ganaron 3 millones de dolares en 6 meses.\n",
    "\n",
    "## Razonamiento\n",
    "\n",
    "Según el texto del caso, tanto las ventas en linea como en tienda bajaron al añadir el sistema BOPS. Sin embargo, desde el punto de vista de los compradores, el sistema BOPS no quita ninguna opción de compra, solo se agrega una nueva forma de comprar, y por esto no es razonable suponer que el BOPS haya tenido un efecto negativo en las ventas. \n",
    "\n",
    "Es importante notar que el sistema BOPS solo se agregó en Estados Unidos y no en Canada. Así que para medir el efecto que ha tenido el BOPS en tiendas deberiamos considerar las ventas en ambos países por separado. Además, para medir el efecto que ha tenido el BOPS en las compras en linea podemos dividir la información entre compras desde zonas cercanas a una tienda y compras en zonas que no están cerca de una tienda.\n",
    "\n",
    "Empezaremos sacando información general que nos servirá para calcular números como promedio de ventas por semana antes y después del BOPS."
   ]
  },
  {
   "cell_type": "code",
   "execution_count": 76,
   "metadata": {
    "collapsed": true
   },
   "outputs": [],
   "source": [
    "import pandas as pd"
   ]
  },
  {
   "cell_type": "code",
   "execution_count": 77,
   "metadata": {},
   "outputs": [],
   "source": [
    "sales_online = pd.read_csv('/Users/sebastianquintanilla/Downloads/BOPS_case/bops_online.csv')\n",
    "sales_bm = pd.read_csv('/Users/sebastianquintanilla/Downloads/BOPS_case/bops_bm.csv')\n",
    "\n",
    "#quitamos columnas que no tienen info\n",
    "sales_bm.drop(['Unnamed: 7', 'Unnamed: 8', 'Unnamed: 9', 'Unnamed: 10'],inplace=True,axis=1)"
   ]
  },
  {
   "cell_type": "code",
   "execution_count": 78,
   "metadata": {},
   "outputs": [
    {
     "name": "stdout",
     "output_type": "stream",
     "text": [
      "tiendas en USA: 67\n",
      "tiendas en Canada: 17\n",
      "total de tiendas: 84\n"
     ]
    }
   ],
   "source": [
    "#empezamos con los números para tiendas\n",
    "n_stores = sales_bm['id (store)'].nunique()\n",
    "n_usa = sales_bm[sales_bm['usa'] == 1]['id (store)'].nunique()\n",
    "n_can = sales_bm[sales_bm['usa'] == 0]['id (store)'].nunique()\n",
    "\n",
    "print('tiendas en USA: '+str(n_usa))\n",
    "print('tiendas en Canada: '+str(n_can))\n",
    "print('total de tiendas: '+str(n_stores))"
   ]
  },
  {
   "cell_type": "code",
   "execution_count": 80,
   "metadata": {},
   "outputs": [
    {
     "name": "stdout",
     "output_type": "stream",
     "text": [
      "Zonas cercanas a tiendas consideradas: 101\n",
      "Zonas lejanas a tiendas consideradas: 109\n",
      "Total de zonas consideradas: 210\n"
     ]
    }
   ],
   "source": [
    "#ahora vamos con los numeros para ventas online\n",
    "n_zones = sales_online['id (DMA)'].nunique()\n",
    "n_close = sales_online[sales_online['close'] == 1]['id (DMA)'].nunique()\n",
    "n_far = sales_online[sales_online['close'] == 0]['id (DMA)'].nunique()\n",
    "\n",
    "print('Zonas cercanas a tiendas consideradas: '+ str(n_close))\n",
    "print('Zonas lejanas a tiendas consideradas: '+ str(n_far))\n",
    "print('Total de zonas consideradas: '+ str(n_zones))"
   ]
  },
  {
   "cell_type": "code",
   "execution_count": 102,
   "metadata": {},
   "outputs": [
    {
     "name": "stdout",
     "output_type": "stream",
     "text": [
      "No. de semanas antes de BOPS: 27|26\n",
      "No. de semanas despues de BOPS: 27|25\n",
      "Total de semanas: 53|51\n"
     ]
    }
   ],
   "source": [
    "#por último, calculamos cuantas semanas de la base son antes y despues del BOPS\n",
    "w_bm = sales_bm['week'].nunique()\n",
    "w_ol = sales_online['week'].nunique()\n",
    "\n",
    "w_before_bm = sales_bm[(sales_bm['after'] == 0)&(sales_bm['usa'] == 1)]['week'].nunique()\n",
    "w_after_bm = sales_bm[(sales_bm['after'] == 1)&(sales_bm['usa'] == 1)]['week'].nunique()\n",
    "\n",
    "w_before_ol = sales_online[sales_online['after'] == 0]['week'].nunique()\n",
    "w_after_ol = sales_online[sales_online['after'] == 1]['week'].nunique()\n",
    "\n",
    "\n",
    "print('No. de semanas antes de BOPS: '+ str(w_before_bm) + '|' + str(w_before_ol))\n",
    "print('No. de semanas despues de BOPS: '+ str(w_after_bm) + '|' + str(w_after_ol))\n",
    "print('Total de semanas: '+ str(w_bm) + '|' + str(w_ol))"
   ]
  },
  {
   "cell_type": "code",
   "execution_count": 103,
   "metadata": {},
   "outputs": [
    {
     "name": "stdout",
     "output_type": "stream",
     "text": [
      "Promedio de ventas por tienda por semana ($), antes y despues de BOPS\n",
      "Canada: 66862.2592593|56325.2396514\n",
      "USA: 67844.4969596|61058.9325594\n"
     ]
    }
   ],
   "source": [
    "avg_can_before = sales_bm[(sales_bm['usa'] == 0)&(sales_bm['after'] == 0)][' sales '].sum()/(n_can*w_before_bm)\n",
    "avg_can_after = sales_bm[(sales_bm['usa'] == 0)&(sales_bm['after'] == 1)][' sales '].sum()/(n_can*w_after_bm)\n",
    "\n",
    "avg_usa_before = sales_bm[(sales_bm['usa'] == 1)&(sales_bm['after'] == 0)][' sales '].sum()/(n_usa*w_before_bm)\n",
    "avg_usa_after = sales_bm[(sales_bm['usa'] == 1)&(sales_bm['after'] == 1)][' sales '].sum()/(n_usa*w_after_bm)\n",
    "\n",
    "print('Promedio de ventas por tienda por semana ($), antes y despues de BOPS')\n",
    "print('Canada: '+ str(avg_can_before) + '|' + str(avg_can_after))\n",
    "print('USA: '+ str(avg_usa_before) + '|' + str(avg_usa_after))\n"
   ]
  },
  {
   "cell_type": "code",
   "execution_count": 104,
   "metadata": {},
   "outputs": [
    {
     "name": "stdout",
     "output_type": "stream",
     "text": [
      "Proporción de cambio del promedio de ventas\n",
      "En Canada: -0.15759293396\n",
      "En USA: -0.100016430283\n"
     ]
    }
   ],
   "source": [
    "#calculamos la razón de cambio en ambos países\n",
    "rate_can = (avg_can_after - avg_can_before)/avg_can_before\n",
    "rate_usa = (avg_usa_after - avg_usa_before)/avg_usa_before\n",
    "\n",
    "print('Proporción de cambio del promedio de ventas')\n",
    "print('En Canada: ' + str(rate_can))\n",
    "print('En USA: ' + str(rate_usa))"
   ]
  },
  {
   "cell_type": "markdown",
   "metadata": {},
   "source": [
    "Vemos que el promedio de ventas por tienda por semana bajó en ambos países despues del BOPS. Sin embargo en Canada las ventas bajaron 15% mientras que en USA bajaron 10%.\n",
    "\n",
    "Dado que en Canada no se implementó el BOPS podemos ver que esta baja en las ventas no se debe al BOPS y podemos suponer que se debe a algún factor externo (por ejemplo baja en popularidad de las tiendas). \n",
    "\n",
    "Vemos que en ambos países el promedio de ventas por tienda por semana es similar antes del BOPS (~67 mil dolares). Resulta razonable suponer que sin el BOPS las ventas en USA se hubieran visto afectadas de forma similar que en Canada pues ambas poblaciones tenían un comportamiento muy parecido.\n",
    "\n",
    "Con estas dos suposiciones (un factor externo ocasionó la baja en ventas, y este factor afecta de igual manera a ambas poblaciones) podemos especular que el BOPS ayudó a amortiguar esta baja en ventas en USA. Veamos ahora como afectó el BOPS a las ventas en linea."
   ]
  },
  {
   "cell_type": "code",
   "execution_count": 108,
   "metadata": {},
   "outputs": [
    {
     "name": "stdout",
     "output_type": "stream",
     "text": [
      "Promedio de ventas en linea por zona por semana ($), antes y despues de BOPS\n",
      "Zonas lejanas a tiendas: 15659.1503176|13770.9911927\n",
      "Zonas cercanas a tiendas: 13743.5575019|11615.4590099\n"
     ]
    }
   ],
   "source": [
    "avg_far_before = sales_online[(sales_online['close'] == 0)&(sales_online['after'] == 0)][' sales '].sum()/(n_far*w_before_ol)\n",
    "avg_far_after = sales_online[(sales_online['close'] == 0)&(sales_online['after'] == 1)][' sales '].sum()/(n_far*w_after_ol)\n",
    "\n",
    "avg_close_before = sales_online[(sales_online['close'] == 1)&(sales_online['after'] == 0)][' sales '].sum()/(n_close*w_before_ol)\n",
    "avg_close_after = sales_online[(sales_online['close'] == 1)&(sales_online['after'] == 1)][' sales '].sum()/(n_close*w_after_ol)\n",
    "\n",
    "print('Promedio de ventas en linea por zona por semana ($), antes y despues de BOPS')\n",
    "print('Zonas lejanas a tiendas: '+ str(avg_far_before) + '|' + str(avg_far_after))\n",
    "print('Zonas cercanas a tiendas: '+ str(avg_close_before) + '|' + str(avg_close_after))"
   ]
  },
  {
   "cell_type": "code",
   "execution_count": 111,
   "metadata": {},
   "outputs": [
    {
     "name": "stdout",
     "output_type": "stream",
     "text": [
      "Proporción de cambio del promedio de ventas en linea\n",
      "Zonas lejanas a tiendas: -0.120578644857\n",
      "Zonas cercanas a tiendas: -0.154843350545\n"
     ]
    }
   ],
   "source": [
    "#calculamos la razón de cambio en ambas zonas\n",
    "rate_far = (avg_far_after - avg_far_before)/avg_far_before\n",
    "rate_close = (avg_close_after - avg_close_before)/avg_close_before\n",
    "\n",
    "print('Proporción de cambio del promedio de ventas en linea')\n",
    "print('Zonas lejanas a tiendas: ' + str(rate_far))\n",
    "print('Zonas cercanas a tiendas: ' + str(rate_close))"
   ]
  },
  {
   "cell_type": "markdown",
   "metadata": {},
   "source": [
    "Vemos que tanto en zonas cercanas a tiendas como en zonas lejanas, la cantidad de ventas bajó. De nuevo, las ventas en zonas lejanas a tiendas no deberían ser afectadas por el BOPS pues en zonas lejanas no tiene sentido usar el BOPS. Esto es consistente con el supuesto de un factor externo que afecta las ventas de la tienda en general.\n",
    "\n",
    "Otra cosa razonable que vemos, es que en promedio se tengan mayores ventas en zonas lejanas, pues las compras en linea se vuelven una necesidad para los clientes que viven en estas zonas, mientras que los clientes que viven cerca a una tienda pueden decidir comprar en linea o ir a la tienda.\n",
    "\n",
    "Vemos también que en zonas cercanas a las tiendas la baja en ventas es mayor, pues en las zonas lejanas se tiene una baja del 12% mientras que en zonas cercanas esta baja es del 15.5%.\n",
    "Por lo tanto podemos suponer que la baja en ventas en linea se vio acentuada por la presencia del BOPS."
   ]
  },
  {
   "cell_type": "markdown",
   "metadata": {},
   "source": [
    "## conclusiones\n",
    "\n",
    "Después de comparar las poblaciones que fueron afectadas por el BOPS (clientes en tiendas en USA y clientes en linea de zonas cercanas), contra las poblaciones para la cuales este nuevo método de compra no hizo ningún cambio (clientes en tiendas en Canada y clientes en linea en zonas lejanas), podemos hacer tres suposiciones razonables:\n",
    "- La baja en ventas se debe a un factor externo. No podemos deducir este factor con la información que tenemos\n",
    "- El BOPS tuvo un efecto negativo en las ventas en linea.\n",
    "- El BOPS tuvo un efecto positivo en las ventas en tienda.\n",
    "\n",
    "Dado que el BOPS tuvo efectos distintos en sus dos tipos de ventas, para poder responder a las preguntas debemos hacer una proyección de lo que hubiera pasado si no se hubiera implementado este nuevo método de compra.\n",
    "Para la proyección lo que haremos es suponer que todas las ventas en tienda bajan por el mismo porcentaje que las ventas en tienda en Canada, y que todas las ventas en linea bajan por el mismo porcentaje que las ventas en linea en zonas lejanas."
   ]
  },
  {
   "cell_type": "code",
   "execution_count": 117,
   "metadata": {},
   "outputs": [
    {
     "name": "stdout",
     "output_type": "stream",
     "text": [
      "Ventas en tienda antes de BOPS | Después de BOPS | Proyección sin BOPS\n",
      "153420472.0|136308894.0|129242489.688\n",
      "Ventas en linea antes de BOPS | Después de BOPS | Proyección sin BOPS\n",
      "80468614.0|66854985.0|70765817.5703\n"
     ]
    }
   ],
   "source": [
    "sales_bm_before = sales_bm[sales_bm['after'] == 0][' sales '].sum()\n",
    "sales_bm_after = sales_bm[sales_bm['after'] == 1][' sales '].sum()\n",
    "\n",
    "sales_ol_before = sales_online[sales_online['after'] == 0][' sales '].sum()\n",
    "sales_ol_after = sales_online[sales_online['after'] == 1][' sales '].sum()\n",
    "\n",
    "proj_bm = sales_bm_before * (1+rate_can)\n",
    "proj_ol = sales_ol_before * (1+rate_far)\n",
    "\n",
    "print('Ventas en tienda antes de BOPS | Después de BOPS | Proyección sin BOPS')\n",
    "print(str(sales_bm_before) + '|' + str (sales_bm_after) + '|' + str(proj_bm))\n",
    "\n",
    "print('Ventas en linea antes de BOPS | Después de BOPS | Proyección sin BOPS')\n",
    "print(str(sales_ol_before) + '|' + str (sales_ol_after) + '|' + str(proj_ol))"
   ]
  },
  {
   "cell_type": "markdown",
   "metadata": {},
   "source": [
    "Para calcular el efecto total de BOPS sumamos la ventas despues de BOPS por ambos medios y restamos la suma de ambas proyecciones."
   ]
  },
  {
   "cell_type": "code",
   "execution_count": 119,
   "metadata": {},
   "outputs": [
    {
     "name": "stdout",
     "output_type": "stream",
     "text": [
      "Efecto de BOPS: 3155571.74164\n"
     ]
    }
   ],
   "source": [
    "BOPS_effect = (sales_bm_after + sales_ol_after) - (proj_bm + proj_ol)\n",
    "print('Efecto de BOPS: ' +str(BOPS_effect))"
   ]
  },
  {
   "cell_type": "markdown",
   "metadata": {},
   "source": [
    "Bajo nuestras suposiciones, BOPS tuvo un efecto positivo de más de 3 millones de dólares en estos 6 meses. Aunque en general las ventas bajaron, sin este nuevo programa las ventas hubieran bajado aún más.\n",
    "\n",
    "Parece que una expansión del programa a Canadá podría beneficiar a la empresa. Sin embargo nos falta información sobre las ventas en línea en Canadá, y cuántas de estas se hacen desde zonas lejanas a tiendas. \n",
    "\n",
    "Hay que tomar en cuenta que en Canadá la presencia en tiendas es pequeña (17 tiendas en Canadá contra 67 tiendas en USA). Por ello parece que el efecto de BOPS sería bajo, aunque no podemos saberlo con certeza."
   ]
  },
  {
   "cell_type": "code",
   "execution_count": null,
   "metadata": {
    "collapsed": true
   },
   "outputs": [],
   "source": []
  }
 ],
 "metadata": {
  "kernelspec": {
   "display_name": "Python 2",
   "language": "python",
   "name": "python2"
  },
  "language_info": {
   "codemirror_mode": {
    "name": "ipython",
    "version": 2
   },
   "file_extension": ".py",
   "mimetype": "text/x-python",
   "name": "python",
   "nbconvert_exporter": "python",
   "pygments_lexer": "ipython2",
   "version": "2.7.13"
  }
 },
 "nbformat": 4,
 "nbformat_minor": 2
}
